{
 "cells": [
  {
   "cell_type": "code",
   "execution_count": 1,
   "id": "documentary-dress",
   "metadata": {},
   "outputs": [],
   "source": [
    "URL = 'http://127.0.0.1:9000'"
   ]
  },
  {
   "cell_type": "code",
   "execution_count": 2,
   "id": "universal-shelf",
   "metadata": {},
   "outputs": [],
   "source": [
    "import requests\n",
    "from PIL import Image\n",
    "import cv2"
   ]
  },
  {
   "cell_type": "code",
   "execution_count": 3,
   "id": "secret-hobby",
   "metadata": {},
   "outputs": [
    {
     "name": "stdout",
     "output_type": "stream",
     "text": [
      "b'Hello, World!'\n"
     ]
    }
   ],
   "source": [
    "# test any response\n",
    "r = requests.get(url='{}/'.format(URL))\n",
    "print(r.content)"
   ]
  },
  {
   "cell_type": "code",
   "execution_count": 4,
   "id": "decent-feeling",
   "metadata": {},
   "outputs": [
    {
     "name": "stdout",
     "output_type": "stream",
     "text": [
      "{'msg': 'success', 'size': [500, 375]}\n"
     ]
    }
   ],
   "source": [
    "pt = '/mnt/tank/scratch/tpolevaya/datasets/rash/esergeenko/net_2_branches/0.jpg'\n",
    "my_img = {'image': open(pt, 'rb')}\n",
    "r = requests.post(url=f'{URL}/im_size', files=my_img)\n",
    "print(r.json())"
   ]
  },
  {
   "cell_type": "code",
   "execution_count": 5,
   "id": "cooked-pasta",
   "metadata": {},
   "outputs": [
    {
     "name": "stdout",
     "output_type": "stream",
     "text": [
      "{'disease': 'атопический дерматит', 'morphology': [], 'msg': 'success'}\n"
     ]
    }
   ],
   "source": [
    "pt = '/mnt/tank/scratch/tpolevaya/datasets/rash/esergeenko/net_2_branches/0.jpg'\n",
    "my_img = {'image': open(pt, 'rb')}\n",
    "r = requests.post(url=f'{URL}/predict', files=my_img)\n",
    "print(r.json())"
   ]
  },
  {
   "cell_type": "code",
   "execution_count": 6,
   "id": "exact-discount",
   "metadata": {},
   "outputs": [
    {
     "name": "stdout",
     "output_type": "stream",
     "text": [
      "{'data_uncertainty': 0.1408829391002655, 'disease': 'атопический дерматит', 'knowledge_uncertainty': 0.05173009634017944, 'msg': 'success', 'total_uncertainty': 0.19261303544044495}\n"
     ]
    }
   ],
   "source": [
    "pt = '/mnt/tank/scratch/tpolevaya/datasets/rash/esergeenko/net_2_branches/0.jpg'\n",
    "my_img = {'image': open(pt, 'rb')}\n",
    "r = requests.post(url=f'{URL}/uncertainty', files=my_img)\n",
    "print(r.json())"
   ]
  },
  {
   "cell_type": "code",
   "execution_count": 7,
   "id": "amino-sector",
   "metadata": {},
   "outputs": [
    {
     "name": "stdout",
     "output_type": "stream",
     "text": [
      "<Response [200]>\n",
      "{'disease': 'псориаз', 'morphology': ['папула+бляшка+комедон'], 'msg': 'success'}\n"
     ]
    }
   ],
   "source": [
    "pt = '/mnt/tank/scratch/tpolevaya/my_work/students/coursework/_data/gsa/0000024.jpg'\n",
    "my_img = {'image': open(pt, 'rb')}\n",
    "r = requests.post(url=f'{URL}/predict', files=my_img)\n",
    "print(r)\n",
    "print(r.json())"
   ]
  },
  {
   "cell_type": "code",
   "execution_count": null,
   "id": "acquired-civilization",
   "metadata": {},
   "outputs": [],
   "source": []
  }
 ],
 "metadata": {
  "kernelspec": {
   "display_name": "derm-demo-service",
   "language": "python",
   "name": "derm-demo-service"
  },
  "language_info": {
   "codemirror_mode": {
    "name": "ipython",
    "version": 3
   },
   "file_extension": ".py",
   "mimetype": "text/x-python",
   "name": "python",
   "nbconvert_exporter": "python",
   "pygments_lexer": "ipython3",
   "version": "3.6.12"
  }
 },
 "nbformat": 4,
 "nbformat_minor": 5
}
