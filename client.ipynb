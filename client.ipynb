{
 "cells": [
  {
   "cell_type": "code",
   "execution_count": 2,
   "id": "unavailable-gregory",
   "metadata": {},
   "outputs": [],
   "source": [
    "URL = 'http://127.0.0.1:9000'"
   ]
  },
  {
   "cell_type": "code",
   "execution_count": 3,
   "id": "sitting-trinidad",
   "metadata": {},
   "outputs": [],
   "source": [
    "import requests\n",
    "from PIL import Image\n",
    "import cv2"
   ]
  },
  {
   "cell_type": "code",
   "execution_count": 23,
   "id": "confident-berry",
   "metadata": {},
   "outputs": [
    {
     "name": "stdout",
     "output_type": "stream",
     "text": [
      "b'Hello, World!'\n"
     ]
    }
   ],
   "source": [
    "# test any response\n",
    "r = requests.get(url='{}/'.format(URL))\n",
    "print(r.content)"
   ]
  },
  {
   "cell_type": "code",
   "execution_count": 38,
   "id": "strange-equilibrium",
   "metadata": {},
   "outputs": [
    {
     "name": "stdout",
     "output_type": "stream",
     "text": [
      "{'msg': 'success', 'size': [500, 375]}\n"
     ]
    }
   ],
   "source": [
    "pt = '/mnt/tank/scratch/tpolevaya/datasets/rash/esergeenko/net_2_branches/0.jpg'\n",
    "my_img = {'image': open(pt, 'rb')}\n",
    "r = requests.post(url=f'{URL}/im_size', files=my_img)\n",
    "print(r.json())"
   ]
  },
  {
   "cell_type": "code",
   "execution_count": 40,
   "id": "effective-convert",
   "metadata": {},
   "outputs": [
    {
     "name": "stdout",
     "output_type": "stream",
     "text": [
      "{'disease': 'атопический дерматит', 'morphology': ['гнойничок'], 'msg': 'success'}\n"
     ]
    }
   ],
   "source": [
    "pt = '/mnt/tank/scratch/tpolevaya/datasets/rash/esergeenko/net_2_branches/0.jpg'\n",
    "my_img = {'image': open(pt, 'rb')}\n",
    "r = requests.post(url=f'{URL}/predict', files=my_img)\n",
    "print(r.json())"
   ]
  },
  {
   "cell_type": "code",
   "execution_count": null,
   "id": "pediatric-prescription",
   "metadata": {},
   "outputs": [],
   "source": []
  }
 ],
 "metadata": {
  "kernelspec": {
   "display_name": "derm-demo-service",
   "language": "python",
   "name": "derm-demo-service"
  },
  "language_info": {
   "codemirror_mode": {
    "name": "ipython",
    "version": 3
   },
   "file_extension": ".py",
   "mimetype": "text/x-python",
   "name": "python",
   "nbconvert_exporter": "python",
   "pygments_lexer": "ipython3",
   "version": "3.6.12"
  }
 },
 "nbformat": 4,
 "nbformat_minor": 5
}
