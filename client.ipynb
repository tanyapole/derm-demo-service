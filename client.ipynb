{
 "cells": [
  {
   "cell_type": "code",
   "execution_count": 14,
   "id": "silver-rhythm",
   "metadata": {},
   "outputs": [],
   "source": [
    "URL = 'http://127.0.0.1:9000'"
   ]
  },
  {
   "cell_type": "code",
   "execution_count": 15,
   "id": "secondary-butler",
   "metadata": {},
   "outputs": [],
   "source": [
    "import requests"
   ]
  },
  {
   "cell_type": "code",
   "execution_count": 16,
   "id": "christian-chassis",
   "metadata": {},
   "outputs": [],
   "source": [
    "r = requests.get(url='{}/'.format(URL))"
   ]
  },
  {
   "cell_type": "code",
   "execution_count": 17,
   "id": "prepared-movie",
   "metadata": {},
   "outputs": [
    {
     "data": {
      "text/plain": [
       "b'Hello, World!'"
      ]
     },
     "execution_count": 17,
     "metadata": {},
     "output_type": "execute_result"
    }
   ],
   "source": [
    "r.content"
   ]
  },
  {
   "cell_type": "code",
   "execution_count": null,
   "id": "comprehensive-triangle",
   "metadata": {},
   "outputs": [],
   "source": []
  }
 ],
 "metadata": {
  "kernelspec": {
   "display_name": "derm-demo-service",
   "language": "python",
   "name": "derm-demo-service"
  },
  "language_info": {
   "codemirror_mode": {
    "name": "ipython",
    "version": 3
   },
   "file_extension": ".py",
   "mimetype": "text/x-python",
   "name": "python",
   "nbconvert_exporter": "python",
   "pygments_lexer": "ipython3",
   "version": "3.6.12"
  }
 },
 "nbformat": 4,
 "nbformat_minor": 5
}
